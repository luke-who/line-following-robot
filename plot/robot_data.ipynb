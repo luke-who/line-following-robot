{
 "cells": [
  {
   "cell_type": "markdown",
   "id": "0eee093d",
   "metadata": {},
   "source": [
    "# Dependencies"
   ]
  },
  {
   "cell_type": "code",
   "execution_count": null,
   "id": "8843ee40",
   "metadata": {},
   "outputs": [],
   "source": [
    "import serial\n",
    "import pickle\n",
    "from pathlib import Path\n",
    "import numpy as np\n",
    "import regex as re\n",
    "import pandas as pd\n",
    "import seaborn as sns\n",
    "import matplotlib.pyplot as plt\n",
    "\n",
    "columns=[\"0deg\",\"18deg\",\"36deg\",\"54deg\",\"72deg\",\"90deg\"]\n",
    "\n",
    "def columns_formated():\n",
    "    res = []\n",
    "    for col in columns:\n",
    "        res.append(re.sub(\"deg\", \"°\", col))\n",
    "    return res"
   ]
  },
  {
   "cell_type": "code",
   "execution_count": null,
   "id": "0a972f9b",
   "metadata": {},
   "outputs": [],
   "source": [
    "robotOut = []\n",
    "\n",
    "with serial.Serial('/dev/ttyACM0', 9600) as ser:\n",
    "    while len(robotOut) < 300:\n",
    "        line = ser.readline().decode(\"utf-8\")\n",
    "        print(line, end=\"\")\n",
    "        line = re.sub(\"\\S+:\", \"\", line)\n",
    "        line = re.sub(\"\\r\\n\", \"\", line)\n",
    "        robotOut.append(float(line))\n",
    "    \n",
    "    "
   ]
  },
  {
   "cell_type": "code",
   "execution_count": null,
   "id": "3123bb77",
   "metadata": {},
   "outputs": [],
   "source": [
    "print(len(robotOut))\n",
    "plt.plot(robotOut)"
   ]
  },
  {
   "cell_type": "code",
   "execution_count": null,
   "id": "382bdff5",
   "metadata": {},
   "outputs": [],
   "source": [
    "with open(\"data/90deg/l_90deg_run1.pkl\", \"wb\") as file:\n",
    "            pickle.dump(robotOut, file)"
   ]
  },
  {
   "cell_type": "code",
   "execution_count": null,
   "id": "1e1ef848",
   "metadata": {},
   "outputs": [],
   "source": [
    "with open(\"data/36deg/36deg_run1.pkl\", \"rb\") as file:\n",
    "            robotOut = pickle.load(file)"
   ]
  },
  {
   "cell_type": "code",
   "execution_count": null,
   "id": "661e011e",
   "metadata": {
    "scrolled": false
   },
   "outputs": [],
   "source": [
    "fig, axs = plt.subplots(figsize=(4*3,3*2), nrows=2, ncols = 3)\n",
    "\n",
    "def getResults():\n",
    "\n",
    "    results = np.empty((6,5,300))\n",
    "\n",
    "    def setResults(results, robotOut, index, file):\n",
    "        run = re.sub(\"\\S+n\", \"\", file.parts[2])\n",
    "        run = re.sub(\"\\.\\S+\", \"\", run)\n",
    "        results[index, int(run)-1] = robotOut\n",
    "\n",
    "    for file in Path().rglob(\"*.pkl\"):\n",
    "        with open(file, \"rb\") as f:\n",
    "            robotOut = pickle.load(f)\n",
    "            \n",
    "        if file.parts[1] in columns:\n",
    "            setResults(results, robotOut, columns.index(file.parts[1]), file)\n",
    "            \n",
    "    return results\n",
    "        \n",
    "results = getResults()     \n",
    "results = np.average(results, axis=(1)) \n",
    "\n",
    "\n",
    "for i, val in enumerate(columns):\n",
    "    col = i//3\n",
    "    row = i - (col*3)\n",
    "    \n",
    "    axs[col,row].plot(results[i], label=re.sub(\"deg\", \"°\", val))\n",
    "\n",
    "\n",
    "for axi in axs:\n",
    "    for ax in axi:\n",
    "        ax.set_ylim(-0.4,0.7)\n",
    "        ax.legend()\n",
    "\n",
    "fig.text(0.5, 0.06, 'Recorder Index', ha='center', va='center', fontsize='large')\n",
    "fig.text(0.075, 0.5, 'Average Error', ha='center', va='center', rotation='vertical', fontsize='large')\n",
    "fig.savefig(\"feedback_error.svg\")"
   ]
  },
  {
   "cell_type": "code",
   "execution_count": null,
   "id": "7129233e",
   "metadata": {},
   "outputs": [],
   "source": [
    "results = getResults()\n",
    "results = np.average(results, axis=(1))\n",
    "\n",
    "\n",
    "fig, ax = plt.subplots(figsize=(8,3))\n",
    "\n",
    "results = pd.DataFrame(results.T, columns=columns_formated())\n",
    "# print(results.shape)\n",
    "\n",
    "# axs[0,0].boxplot(results[0])\n",
    "sns.boxplot(ax=ax, data=results, orient=\"h\")\n",
    "ax.set_ylabel(\"Degree\")\n",
    "ax.set_xlabel(\"Average Error\")\n",
    "fig.savefig(\"feedback_error_boxplot.svg\")\n",
    "# axs[0,0] = ax\n",
    "# axs[0,0].boxplot(results[0])"
   ]
  },
  {
   "cell_type": "code",
   "execution_count": null,
   "id": "6a0e05c0",
   "metadata": {},
   "outputs": [],
   "source": [
    "print(len(robotOut))\n",
    "robotOut"
   ]
  },
  {
   "cell_type": "code",
   "execution_count": null,
   "id": "624457c0",
   "metadata": {},
   "outputs": [],
   "source": [
    "pwm_20 = [-9.1, -12.4, -8.6, -10.3, -15.4, -11.2, 10.0, -6.0, -8.1, 1.1]  \n",
    "pwm_40 = [-12.2, 10.1, 8.1, -8.2, 0.2, 8.5, -6.4, 6.2, 1.1, 0.8]\n",
    "\n",
    "\n",
    "pwm_20_dataframe = pd.DataFrame({'20':pwm_20})\n",
    "pwm_40_dataframe = pd.DataFrame({'40':pwm_40})\n",
    "\n",
    "\n",
    "combined = pd.concat([ pwm_20_dataframe, pwm_40_dataframe], axis=0)\n",
    "\n",
    "\n",
    "plot = sns.boxplot(data=combined)\n",
    "plot.set(xlabel =\"PWM Value\", ylabel = \"Travel Error (mm)\", title ='Fictional Results')\n",
    "plt.show()"
   ]
  }
 ],
 "metadata": {
  "kernelspec": {
   "display_name": "Python 3 (ipykernel)",
   "language": "python",
   "name": "python3"
  },
  "language_info": {
   "codemirror_mode": {
    "name": "ipython",
    "version": 3
   },
   "file_extension": ".py",
   "mimetype": "text/x-python",
   "name": "python",
   "nbconvert_exporter": "python",
   "pygments_lexer": "ipython3",
   "version": "3.10.5"
  },
  "toc": {
   "base_numbering": 1,
   "nav_menu": {},
   "number_sections": true,
   "sideBar": true,
   "skip_h1_title": false,
   "title_cell": "Table of Contents",
   "title_sidebar": "Contents",
   "toc_cell": false,
   "toc_position": {
    "height": "710px",
    "left": "66px",
    "top": "265.133px",
    "width": "384px"
   },
   "toc_section_display": true,
   "toc_window_display": true
  }
 },
 "nbformat": 4,
 "nbformat_minor": 5
}
